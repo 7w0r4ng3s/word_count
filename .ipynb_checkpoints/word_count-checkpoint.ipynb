{
 "cells": [
  {
   "cell_type": "code",
   "execution_count": 1,
   "metadata": {},
   "outputs": [],
   "source": [
    "import textract, re\n",
    "import os\n",
    "import glob"
   ]
  },
  {
   "cell_type": "code",
   "execution_count": 2,
   "metadata": {},
   "outputs": [
    {
     "name": "stdout",
     "output_type": "stream",
     "text": [
      "You have 0 files in \"portfolio\" directory: \n",
      "\n"
     ]
    }
   ],
   "source": [
    "# all files names \n",
    "file_names = glob.glob(\"*.pdf\")\n",
    "\n",
    "if len(file_names) == 0:\n",
    "    print(f'You have {len(file_names)} files in \"portfolio\" directory: ')\n",
    "else:   \n",
    "    for i in file_names:\n",
    "        print(i)\n",
    "    \n",
    "print()"
   ]
  },
  {
   "cell_type": "code",
   "execution_count": 3,
   "metadata": {},
   "outputs": [
    {
     "name": "stdout",
     "output_type": "stream",
     "text": [
      "\n",
      "The total word count of the PORTFOLIO is 0\n"
     ]
    }
   ],
   "source": [
    "count = 0\n",
    "for name in file_names:\n",
    "    text = textract.process(name)\n",
    "    words = re.findall(r\"[^\\W_]+\", text.decode('utf-8'), re.MULTILINE)\n",
    "    print(f'The word count in file {name} is {len(words)}')\n",
    "    count += len(words)\n",
    "    \n",
    "print(f'\\nThe total word count of the PORTFOLIO is {count}')"
   ]
  },
  {
   "cell_type": "code",
   "execution_count": null,
   "metadata": {},
   "outputs": [],
   "source": []
  }
 ],
 "metadata": {
  "kernelspec": {
   "display_name": "Python 3",
   "language": "python",
   "name": "python3"
  },
  "language_info": {
   "codemirror_mode": {
    "name": "ipython",
    "version": 3
   },
   "file_extension": ".py",
   "mimetype": "text/x-python",
   "name": "python",
   "nbconvert_exporter": "python",
   "pygments_lexer": "ipython3",
   "version": "3.6.6"
  }
 },
 "nbformat": 4,
 "nbformat_minor": 2
}
